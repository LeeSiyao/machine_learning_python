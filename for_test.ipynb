{
 "cells": [
  {
   "cell_type": "code",
   "execution_count": 7,
   "metadata": {},
   "outputs": [
    {
     "name": "stdout",
     "output_type": "stream",
     "text": [
      "[-345.29236340999995, -115.76695236, -121.48833373999999, -113.49755744000001, -1127.6474760400001, -877.20566741, -95.52179443999998, -95.50105764000001]\n"
     ]
    }
   ],
   "source": [
    "l = [[3.1610,6.7737],\n",
    "[13.4830,2.1288],\n",
    "[0.5805,3.6771],\n",
    "[4.1932,4.1932],\n",
    "[12.4508,13.4830],\n",
    "[5.2254,10.9025],\n",
    "[12.4508,3.1610],\n",
    "[9.3542, -0,9678]\n",
    "]\n",
    "outcome = []\n",
    "for i in l:\n",
    "    f = - i[0]**2 + 4 * i[0] * i[1]- 9 * i[1]**2 - 8 \n",
    "    outcome.append(f)\n",
    "print (outcome)\n",
    "\n",
    "\n"
   ]
  },
  {
   "cell_type": "code",
   "execution_count": null,
   "metadata": {},
   "outputs": [],
   "source": []
  },
  {
   "cell_type": "code",
   "execution_count": 5,
   "metadata": {},
   "outputs": [
    {
     "name": "stdout",
     "output_type": "stream",
     "text": [
      "[-277.0062, -149.0227, -71.2477, -50.60549999999999]\n",
      "-547.8820999999999\n",
      "[0.5055945430595379, 0.27199775280119576, 0.13004202911538815, 0.09236567502387831]\n"
     ]
    }
   ],
   "source": [
    "c=[-311.6651,-183.6816,-105.9066,-85.2644]\n",
    "ckeep1=-34.6589\n",
    "cost=[]\n",
    "for i in c:\n",
    "    cn=i-ckeep1\n",
    "    cost.append(cn)\n",
    "print(cost)\n",
    "\n",
    "s=sum(cost)\n",
    "print(s)\n",
    "pi=[]\n",
    "for i in cost:\n",
    "    ci=abs(i/s)\n",
    "    pi.append(ci)\n",
    "print(pi)"
   ]
  },
  {
   "cell_type": "code",
   "execution_count": null,
   "metadata": {},
   "outputs": [],
   "source": []
  }
 ],
 "metadata": {
  "kernelspec": {
   "display_name": "Python 3",
   "language": "python",
   "name": "python3"
  },
  "language_info": {
   "codemirror_mode": {
    "name": "ipython",
    "version": 3
   },
   "file_extension": ".py",
   "mimetype": "text/x-python",
   "name": "python",
   "nbconvert_exporter": "python",
   "pygments_lexer": "ipython3",
   "version": "3.8.5"
  }
 },
 "nbformat": 4,
 "nbformat_minor": 4
}
