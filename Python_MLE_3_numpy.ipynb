{
 "cells": [
  {
   "cell_type": "code",
   "execution_count": 2,
   "metadata": {},
   "outputs": [
    {
     "name": "stdout",
     "output_type": "stream",
     "text": [
      "Help on function genfromtxt in module numpy:\n",
      "\n",
      "genfromtxt(fname, dtype=<class 'float'>, comments='#', delimiter=None, skip_header=0, skip_footer=0, converters=None, missing_values=None, filling_values=None, usecols=None, names=None, excludelist=None, deletechars=\" !#$%&'()*+,-./:;<=>?@[\\\\]^{|}~\", replace_space='_', autostrip=False, case_sensitive=True, defaultfmt='f%i', unpack=None, usemask=False, loose=True, invalid_raise=True, max_rows=None, encoding='bytes')\n",
      "    Load data from a text file, with missing values handled as specified.\n",
      "    \n",
      "    Each line past the first `skip_header` lines is split at the `delimiter`\n",
      "    character, and characters following the `comments` character are discarded.\n",
      "    \n",
      "    Parameters\n",
      "    ----------\n",
      "    fname : file, str, pathlib.Path, list of str, generator\n",
      "        File, filename, list, or generator to read.  If the filename\n",
      "        extension is `.gz` or `.bz2`, the file is first decompressed. Note\n",
      "        that generators must return byte strings. The strings\n",
      "        in a list or produced by a generator are treated as lines.\n",
      "    dtype : dtype, optional\n",
      "        Data type of the resulting array.\n",
      "        If None, the dtypes will be determined by the contents of each\n",
      "        column, individually.\n",
      "    comments : str, optional\n",
      "        The character used to indicate the start of a comment.\n",
      "        All the characters occurring on a line after a comment are discarded\n",
      "    delimiter : str, int, or sequence, optional\n",
      "        The string used to separate values.  By default, any consecutive\n",
      "        whitespaces act as delimiter.  An integer or sequence of integers\n",
      "        can also be provided as width(s) of each field.\n",
      "    skiprows : int, optional\n",
      "        `skiprows` was removed in numpy 1.10. Please use `skip_header` instead.\n",
      "    skip_header : int, optional\n",
      "        The number of lines to skip at the beginning of the file.\n",
      "    skip_footer : int, optional\n",
      "        The number of lines to skip at the end of the file.\n",
      "    converters : variable, optional\n",
      "        The set of functions that convert the data of a column to a value.\n",
      "        The converters can also be used to provide a default value\n",
      "        for missing data: ``converters = {3: lambda s: float(s or 0)}``.\n",
      "    missing : variable, optional\n",
      "        `missing` was removed in numpy 1.10. Please use `missing_values`\n",
      "        instead.\n",
      "    missing_values : variable, optional\n",
      "        The set of strings corresponding to missing data.\n",
      "    filling_values : variable, optional\n",
      "        The set of values to be used as default when the data are missing.\n",
      "    usecols : sequence, optional\n",
      "        Which columns to read, with 0 being the first.  For example,\n",
      "        ``usecols = (1, 4, 5)`` will extract the 2nd, 5th and 6th columns.\n",
      "    names : {None, True, str, sequence}, optional\n",
      "        If `names` is True, the field names are read from the first line after\n",
      "        the first `skip_header` lines.  This line can optionally be proceeded\n",
      "        by a comment delimiter. If `names` is a sequence or a single-string of\n",
      "        comma-separated names, the names will be used to define the field names\n",
      "        in a structured dtype. If `names` is None, the names of the dtype\n",
      "        fields will be used, if any.\n",
      "    excludelist : sequence, optional\n",
      "        A list of names to exclude. This list is appended to the default list\n",
      "        ['return','file','print']. Excluded names are appended an underscore:\n",
      "        for example, `file` would become `file_`.\n",
      "    deletechars : str, optional\n",
      "        A string combining invalid characters that must be deleted from the\n",
      "        names.\n",
      "    defaultfmt : str, optional\n",
      "        A format used to define default field names, such as \"f%i\" or \"f_%02i\".\n",
      "    autostrip : bool, optional\n",
      "        Whether to automatically strip white spaces from the variables.\n",
      "    replace_space : char, optional\n",
      "        Character(s) used in replacement of white spaces in the variables\n",
      "        names. By default, use a '_'.\n",
      "    case_sensitive : {True, False, 'upper', 'lower'}, optional\n",
      "        If True, field names are case sensitive.\n",
      "        If False or 'upper', field names are converted to upper case.\n",
      "        If 'lower', field names are converted to lower case.\n",
      "    unpack : bool, optional\n",
      "        If True, the returned array is transposed, so that arguments may be\n",
      "        unpacked using ``x, y, z = loadtxt(...)``\n",
      "    usemask : bool, optional\n",
      "        If True, return a masked array.\n",
      "        If False, return a regular array.\n",
      "    loose : bool, optional\n",
      "        If True, do not raise errors for invalid values.\n",
      "    invalid_raise : bool, optional\n",
      "        If True, an exception is raised if an inconsistency is detected in the\n",
      "        number of columns.\n",
      "        If False, a warning is emitted and the offending lines are skipped.\n",
      "    max_rows : int,  optional\n",
      "        The maximum number of rows to read. Must not be used with skip_footer\n",
      "        at the same time.  If given, the value must be at least 1. Default is\n",
      "        to read the entire file.\n",
      "    \n",
      "        .. versionadded:: 1.10.0\n",
      "    encoding : str, optional\n",
      "        Encoding used to decode the inputfile. Does not apply when `fname` is\n",
      "        a file object.  The special value 'bytes' enables backward compatibility\n",
      "        workarounds that ensure that you receive byte arrays when possible\n",
      "        and passes latin1 encoded strings to converters. Override this value to\n",
      "        receive unicode arrays and pass strings as input to converters.  If set\n",
      "        to None the system default is used. The default value is 'bytes'.\n",
      "    \n",
      "        .. versionadded:: 1.14.0\n",
      "    \n",
      "    Returns\n",
      "    -------\n",
      "    out : ndarray\n",
      "        Data read from the text file. If `usemask` is True, this is a\n",
      "        masked array.\n",
      "    \n",
      "    See Also\n",
      "    --------\n",
      "    numpy.loadtxt : equivalent function when no data is missing.\n",
      "    \n",
      "    Notes\n",
      "    -----\n",
      "    * When spaces are used as delimiters, or when no delimiter has been given\n",
      "      as input, there should not be any missing data between two fields.\n",
      "    * When the variables are named (either by a flexible dtype or with `names`,\n",
      "      there must not be any header in the file (else a ValueError\n",
      "      exception is raised).\n",
      "    * Individual values are not stripped of spaces by default.\n",
      "      When using a custom converter, make sure the function does remove spaces.\n",
      "    \n",
      "    References\n",
      "    ----------\n",
      "    .. [1] NumPy User Guide, section `I/O with NumPy\n",
      "           <https://docs.scipy.org/doc/numpy/user/basics.io.genfromtxt.html>`_.\n",
      "    \n",
      "    Examples\n",
      "    ---------\n",
      "    >>> from io import StringIO\n",
      "    >>> import numpy as np\n",
      "    \n",
      "    Comma delimited file with mixed dtype\n",
      "    \n",
      "    >>> s = StringIO(u\"1,1.3,abcde\")\n",
      "    >>> data = np.genfromtxt(s, dtype=[('myint','i8'),('myfloat','f8'),\n",
      "    ... ('mystring','S5')], delimiter=\",\")\n",
      "    >>> data\n",
      "    array((1, 1.3, b'abcde'),\n",
      "          dtype=[('myint', '<i8'), ('myfloat', '<f8'), ('mystring', 'S5')])\n",
      "    \n",
      "    Using dtype = None\n",
      "    \n",
      "    >>> _ = s.seek(0) # needed for StringIO example only\n",
      "    >>> data = np.genfromtxt(s, dtype=None,\n",
      "    ... names = ['myint','myfloat','mystring'], delimiter=\",\")\n",
      "    >>> data\n",
      "    array((1, 1.3, b'abcde'),\n",
      "          dtype=[('myint', '<i8'), ('myfloat', '<f8'), ('mystring', 'S5')])\n",
      "    \n",
      "    Specifying dtype and names\n",
      "    \n",
      "    >>> _ = s.seek(0)\n",
      "    >>> data = np.genfromtxt(s, dtype=\"i8,f8,S5\",\n",
      "    ... names=['myint','myfloat','mystring'], delimiter=\",\")\n",
      "    >>> data\n",
      "    array((1, 1.3, b'abcde'),\n",
      "          dtype=[('myint', '<i8'), ('myfloat', '<f8'), ('mystring', 'S5')])\n",
      "    \n",
      "    An example with fixed-width columns\n",
      "    \n",
      "    >>> s = StringIO(u\"11.3abcde\")\n",
      "    >>> data = np.genfromtxt(s, dtype=None, names=['intvar','fltvar','strvar'],\n",
      "    ...     delimiter=[1,3,5])\n",
      "    >>> data\n",
      "    array((1, 1.3, b'abcde'),\n",
      "          dtype=[('intvar', '<i8'), ('fltvar', '<f8'), ('strvar', 'S5')])\n",
      "    \n",
      "    An example to show comments\n",
      "    \n",
      "    >>> f = StringIO('''\n",
      "    ... text,# of chars\n",
      "    ... hello world,11\n",
      "    ... numpy,5''')\n",
      "    >>> np.genfromtxt(f, dtype='S12,S12', delimiter=',')\n",
      "    array([(b'text', b''), (b'hello world', b'11'), (b'numpy', b'5')],\n",
      "      dtype=[('f0', 'S12'), ('f1', 'S12')])\n",
      "\n",
      "None\n"
     ]
    }
   ],
   "source": [
    "# data structure\n",
    "import numpy\n",
    "print (help(numpy.genfromtxt))"
   ]
  },
  {
   "cell_type": "code",
   "execution_count": 8,
   "metadata": {},
   "outputs": [
    {
     "name": "stdout",
     "output_type": "stream",
     "text": [
      "[1 2 3 4]\n",
      "[[ 5 10 15]\n",
      " [20 25 30]\n",
      " [ 5  4  2]]\n"
     ]
    }
   ],
   "source": [
    "# matrix\n",
    "vector = numpy.array([1, 2, 3, 4])\n",
    "matrix = numpy.array([[5, 10, 15],[20, 25, 30],[5, 4, 2]]) # tip:dont forget medium bracket at the outter space \n",
    "print (vector)\n",
    "print (matrix)"
   ]
  },
  {
   "cell_type": "code",
   "execution_count": 11,
   "metadata": {},
   "outputs": [
    {
     "name": "stdout",
     "output_type": "stream",
     "text": [
      "(4,)\n",
      "(2, 3)\n"
     ]
    }
   ],
   "source": [
    "# use .shape to figure out the number of elements in the array\n",
    "vector = numpy.array([1, 2, 3, 4])\n",
    "print (vector.shape) # reture number of var in vector\n",
    "# reture the row and column of matrix\n",
    "matrix = numpy.array([[5, 10, 15],[20, 25, 30]])\n",
    "print (matrix.shape)"
   ]
  },
  {
   "cell_type": "code",
   "execution_count": 14,
   "metadata": {},
   "outputs": [
    {
     "name": "stdout",
     "output_type": "stream",
     "text": [
      "[1 2 3 4]\n",
      "[1. 2. 3. 4.]\n",
      "['1' '2' '3' '4']\n"
     ]
    },
    {
     "data": {
      "text/plain": [
       "dtype('<U11')"
      ]
     },
     "execution_count": 14,
     "metadata": {},
     "output_type": "execute_result"
    }
   ],
   "source": [
    "# each value in Numpy array has to have the same data type\n",
    "numbers = numpy.array([1, 2, 3, 4])\n",
    "print (numbers)\n",
    "numbers.dtype\n",
    "\n",
    "numbersfloat = numpy.array([1, 2, 3, 4.0]) # automatically adjust to float\n",
    "print (numbersfloat)\n",
    "numbersfloat.dtype\n",
    "\n",
    "numberstring = numpy.array([1, 2, 3, '4']) # automatically adjust to string\n",
    "print (numberstring)\n",
    "numberstring.dtype"
   ]
  },
  {
   "cell_type": "code",
   "execution_count": 16,
   "metadata": {},
   "outputs": [
    {
     "name": "stdout",
     "output_type": "stream",
     "text": [
      "[['beijing' 'sunny']\n",
      " ['urumqi' 'fog']\n",
      " ['chengdu' 'rain']\n",
      " ['shanghai' 'sun']]\n",
      "rain\n",
      "urumqi\n"
     ]
    }
   ],
   "source": [
    "weather = numpy.genfromtxt('python_MLE_3.txt', delimiter=',', dtype=str, skip_header=1)\n",
    "# numpy read file\n",
    "# name splite type 1/0skip first line\n",
    "print (weather)\n",
    "\n",
    "weather_chengdu = weather[2,1]\n",
    "print (weather_chengdu)\n",
    "city_fog = weather[1,0]\n",
    "print (city_fog)"
   ]
  },
  {
   "cell_type": "code",
   "execution_count": 19,
   "metadata": {},
   "outputs": [
    {
     "name": "stdout",
     "output_type": "stream",
     "text": [
      "[  2  34 543]\n",
      "[10 25  4]\n",
      "30\n"
     ]
    }
   ],
   "source": [
    "vector = numpy.array([2, 34, 543, 244, 54254])\n",
    "print (vector[0:3])\n",
    "\n",
    "matrix = numpy.array([[5, 10, 15],[20, 25, 30],[5, 4, 2]])\n",
    "print (matrix[:,1])\n",
    "print (matrix[1,2])"
   ]
  },
  {
   "cell_type": "code",
   "execution_count": 21,
   "metadata": {},
   "outputs": [
    {
     "data": {
      "text/plain": [
       "array([[False, False,  True],\n",
       "       [False, False, False],\n",
       "       [False, False, False]])"
      ]
     },
     "execution_count": 21,
     "metadata": {},
     "output_type": "execute_result"
    }
   ],
   "source": [
    "# true or false\n",
    "vector = numpy.array([5, 10, 15, 20])\n",
    "vector == 15\n",
    "\n",
    "matrix = numpy.array([[5, 10, 15],[20, 25, 30],[5, 4, 2]])\n",
    "matrix == 15"
   ]
  },
  {
   "cell_type": "code",
   "execution_count": 22,
   "metadata": {},
   "outputs": [
    {
     "name": "stdout",
     "output_type": "stream",
     "text": [
      "[False False  True False]\n",
      "[15]\n"
     ]
    }
   ],
   "source": [
    "# find true value\n",
    "vector = numpy.array([5, 10, 15, 20])\n",
    "equal_to_fifteen = (vector == 15)\n",
    "print (equal_to_fifteen)\n",
    "print (vector[equal_to_fifteen])"
   ]
  },
  {
   "cell_type": "code",
   "execution_count": 25,
   "metadata": {},
   "outputs": [
    {
     "name": "stdout",
     "output_type": "stream",
     "text": [
      "[False False False False]\n",
      "[False  True  True False]\n",
      "[False  True  True False]\n",
      "[ 5 50 50 20]\n"
     ]
    }
   ],
   "source": [
    "# comparisons \n",
    "# and/or/not \n",
    "vector = numpy.array([5, 10, 15, 20])\n",
    "equal_to_ten_and_fifteen = (vector == 15) & (vector == 10)\n",
    "print (equal_to_ten_and_fifteen)\n",
    "\n",
    "equal_to_ten_or_fifteen = (vector == 15) | (vector == 10)\n",
    "print (equal_to_ten_or_fifteen)\n",
    "\n",
    "revalue_ten_or_fifteen = (vector == 15) | (vector == 10)\n",
    "print (revalue_ten_or_fifteen)\n",
    "vector[revalue_ten_or_fifteen] = 50\n",
    "print (vector)"
   ]
  },
  {
   "cell_type": "code",
   "execution_count": 27,
   "metadata": {},
   "outputs": [
    {
     "name": "stdout",
     "output_type": "stream",
     "text": [
      "[ 5 10 15 20]\n",
      "int32\n",
      "[ 5. 10. 15. 20.]\n",
      "float64\n"
     ]
    }
   ],
   "source": [
    "# convert data type use ndarray.astype()\n",
    "vector = numpy.array([5, 10, 15, 20])\n",
    "print (vector)\n",
    "print (vector.dtype)\n",
    "\n",
    "vectorf = vector.astype(float)\n",
    "print (vectorf)\n",
    "print (vectorf.dtype)"
   ]
  },
  {
   "cell_type": "code",
   "execution_count": 30,
   "metadata": {},
   "outputs": [
    {
     "name": "stdout",
     "output_type": "stream",
     "text": [
      "5\n",
      "20\n"
     ]
    }
   ],
   "source": [
    "# max and min\n",
    "vector = numpy.array([5, 10, 15, 20])\n",
    "print (vector.min())\n",
    "print (vector.max())"
   ]
  },
  {
   "cell_type": "code",
   "execution_count": 35,
   "metadata": {},
   "outputs": [
    {
     "name": "stdout",
     "output_type": "stream",
     "text": [
      "[30 39 47]\n",
      "[15 30  5]\n"
     ]
    }
   ],
   "source": [
    "# axis dictate which dimension we perform operation on\n",
    "# 1 represent row/ 0 represent column\n",
    "matrix = numpy.array([\n",
    "                [5, 10, 15],\n",
    "                [20, 25, 30],\n",
    "                [5, 4, 2]\n",
    "            ])\n",
    "matrix_sum = matrix.sum(axis=0)\n",
    "matrix_max = matrix.max(axis=1)\n",
    "print (matrix_sum)\n",
    "print (matrix_max)"
   ]
  },
  {
   "cell_type": "code",
   "execution_count": 45,
   "metadata": {},
   "outputs": [
    {
     "name": "stdout",
     "output_type": "stream",
     "text": [
      "[ 0  1  2  3  4  5  6  7  8  9 10 11 12 13 14]\n",
      "[[ 0  1  2  3  4]\n",
      " [ 5  6  7  8  9]\n",
      " [10 11 12 13 14]]\n"
     ]
    }
   ],
   "source": [
    "import numpy as np # redefine numpy as shorthand np\n",
    "print (np.arange(15)) # numpy.arange()\n",
    "a = np.arange(15).reshape(3, 5) # reshape the vector to 3*5 matrix\n",
    "print (a)"
   ]
  },
  {
   "cell_type": "code",
   "execution_count": 46,
   "metadata": {},
   "outputs": [
    {
     "data": {
      "text/plain": [
       "(3, 5)"
      ]
     },
     "execution_count": 46,
     "metadata": {},
     "output_type": "execute_result"
    }
   ],
   "source": [
    "a.shape # use to debug "
   ]
  },
  {
   "cell_type": "code",
   "execution_count": 47,
   "metadata": {},
   "outputs": [
    {
     "data": {
      "text/plain": [
       "2"
      ]
     },
     "execution_count": 47,
     "metadata": {},
     "output_type": "execute_result"
    }
   ],
   "source": [
    "a.ndim # the number of axes of the array(dimensions)"
   ]
  },
  {
   "cell_type": "code",
   "execution_count": 48,
   "metadata": {},
   "outputs": [
    {
     "data": {
      "text/plain": [
       "'int32'"
      ]
     },
     "execution_count": 48,
     "metadata": {},
     "output_type": "execute_result"
    }
   ],
   "source": [
    "a.dtype.name "
   ]
  },
  {
   "cell_type": "code",
   "execution_count": 49,
   "metadata": {},
   "outputs": [
    {
     "data": {
      "text/plain": [
       "15"
      ]
     },
     "execution_count": 49,
     "metadata": {},
     "output_type": "execute_result"
    }
   ],
   "source": [
    "a.size # total number of element"
   ]
  },
  {
   "cell_type": "code",
   "execution_count": 50,
   "metadata": {},
   "outputs": [
    {
     "data": {
      "text/plain": [
       "array([[0., 0., 0., 0.],\n",
       "       [0., 0., 0., 0.],\n",
       "       [0., 0., 0., 0.]])"
      ]
     },
     "execution_count": 50,
     "metadata": {},
     "output_type": "execute_result"
    }
   ],
   "source": [
    "# initialize matrix\n",
    "np.zeros ((3, 4))"
   ]
  },
  {
   "cell_type": "code",
   "execution_count": 51,
   "metadata": {},
   "outputs": [
    {
     "data": {
      "text/plain": [
       "array([[[1, 1, 1, 1],\n",
       "        [1, 1, 1, 1],\n",
       "        [1, 1, 1, 1]],\n",
       "\n",
       "       [[1, 1, 1, 1],\n",
       "        [1, 1, 1, 1],\n",
       "        [1, 1, 1, 1]]])"
      ]
     },
     "execution_count": 51,
     "metadata": {},
     "output_type": "execute_result"
    }
   ],
   "source": [
    "np.ones( (2,3,4), dtype=np.int32 )"
   ]
  },
  {
   "cell_type": "code",
   "execution_count": 53,
   "metadata": {},
   "outputs": [
    {
     "name": "stdout",
     "output_type": "stream",
     "text": [
      "[10 15 20 25]\n",
      "[0.  0.3 0.6 0.9 1.2 1.5 1.8]\n"
     ]
    }
   ],
   "source": [
    "# create sequences of numbers\n",
    "print (np.arange( 10, 30, 5 ))\n",
    "print (np.arange( 0, 2, 0.3 ))"
   ]
  },
  {
   "cell_type": "code",
   "execution_count": 54,
   "metadata": {},
   "outputs": [
    {
     "data": {
      "text/plain": [
       "array([[0.10159561, 0.74369618, 0.68706628],\n",
       "       [0.87830875, 0.64191808, 0.5118338 ]])"
      ]
     },
     "execution_count": 54,
     "metadata": {},
     "output_type": "execute_result"
    }
   ],
   "source": [
    "# create random matrix in [-1,1]\n",
    "np.random.random((2,3))"
   ]
  },
  {
   "cell_type": "code",
   "execution_count": 55,
   "metadata": {},
   "outputs": [
    {
     "data": {
      "text/plain": [
       "array([0.        , 0.06346652, 0.12693304, 0.19039955, 0.25386607,\n",
       "       0.31733259, 0.38079911, 0.44426563, 0.50773215, 0.57119866,\n",
       "       0.63466518, 0.6981317 , 0.76159822, 0.82506474, 0.88853126,\n",
       "       0.95199777, 1.01546429, 1.07893081, 1.14239733, 1.20586385,\n",
       "       1.26933037, 1.33279688, 1.3962634 , 1.45972992, 1.52319644,\n",
       "       1.58666296, 1.65012947, 1.71359599, 1.77706251, 1.84052903,\n",
       "       1.90399555, 1.96746207, 2.03092858, 2.0943951 , 2.15786162,\n",
       "       2.22132814, 2.28479466, 2.34826118, 2.41172769, 2.47519421,\n",
       "       2.53866073, 2.60212725, 2.66559377, 2.72906028, 2.7925268 ,\n",
       "       2.85599332, 2.91945984, 2.98292636, 3.04639288, 3.10985939,\n",
       "       3.17332591, 3.23679243, 3.30025895, 3.36372547, 3.42719199,\n",
       "       3.4906585 , 3.55412502, 3.61759154, 3.68105806, 3.74452458,\n",
       "       3.8079911 , 3.87145761, 3.93492413, 3.99839065, 4.06185717,\n",
       "       4.12532369, 4.1887902 , 4.25225672, 4.31572324, 4.37918976,\n",
       "       4.44265628, 4.5061228 , 4.56958931, 4.63305583, 4.69652235,\n",
       "       4.75998887, 4.82345539, 4.88692191, 4.95038842, 5.01385494,\n",
       "       5.07732146, 5.14078798, 5.2042545 , 5.26772102, 5.33118753,\n",
       "       5.39465405, 5.45812057, 5.52158709, 5.58505361, 5.64852012,\n",
       "       5.71198664, 5.77545316, 5.83891968, 5.9023862 , 5.96585272,\n",
       "       6.02931923, 6.09278575, 6.15625227, 6.21971879, 6.28318531])"
      ]
     },
     "execution_count": 55,
     "metadata": {},
     "output_type": "execute_result"
    }
   ],
   "source": [
    "# find a group of number with same gap number np.linspace(lower bound, higher  bound, N)\n",
    "from numpy import pi\n",
    "np.linspace( 0, 2*pi, 100 )"
   ]
  },
  {
   "cell_type": "code",
   "execution_count": 58,
   "metadata": {},
   "outputs": [
    {
     "name": "stdout",
     "output_type": "stream",
     "text": [
      "[[1 1]\n",
      " [0 1]]\n",
      "-------\n",
      "[[2 0]\n",
      " [3 4]]\n",
      "-------\n",
      "[[2 0]\n",
      " [0 4]]\n",
      "-------\n",
      "[[5 4]\n",
      " [3 4]]\n",
      "-------\n",
      "[[5 4]\n",
      " [3 4]]\n"
     ]
    }
   ],
   "source": [
    "A = np.array( [[1,1],\n",
    "              [0,1]] )\n",
    "B = np.array( [[2,0], \n",
    "               [3,4]] )\n",
    "print (A)\n",
    "print ('-------')\n",
    "print (B)\n",
    "print ('-------')\n",
    "print (A*B)\n",
    "print ('-------')\n",
    "print (A.dot(B))\n",
    "print ('-------')\n",
    "print (np.dot(A, B))"
   ]
  },
  {
   "cell_type": "code",
   "execution_count": 2,
   "metadata": {},
   "outputs": [
    {
     "name": "stdout",
     "output_type": "stream",
     "text": [
      "[0 1 2]\n",
      "[1.         2.71828183 7.3890561 ]\n",
      "[0.         1.         1.41421356]\n"
     ]
    }
   ],
   "source": [
    "# Some normal computation\n",
    "import numpy as np\n",
    "B = np.arange(3)\n",
    "print (B)\n",
    "print (np.exp(B))\n",
    "print (np.sqrt(B))"
   ]
  },
  {
   "cell_type": "code",
   "execution_count": 6,
   "metadata": {},
   "outputs": [
    {
     "name": "stdout",
     "output_type": "stream",
     "text": [
      "[[0. 5. 4. 3.]\n",
      " [7. 3. 1. 2.]\n",
      " [0. 1. 2. 4.]]\n",
      "--------\n",
      "[0. 5. 4. 3. 7. 3. 1. 2. 0. 1. 2. 4.]\n",
      "--------\n",
      "[[0. 5.]\n",
      " [4. 3.]\n",
      " [7. 3.]\n",
      " [1. 2.]\n",
      " [0. 1.]\n",
      " [2. 4.]]\n",
      "--------\n",
      "[[0. 4. 7. 1. 0. 2.]\n",
      " [5. 3. 3. 2. 1. 4.]]\n"
     ]
    }
   ],
   "source": [
    "# return the floor of input (int)\n",
    "a = np.floor(10*np.random.random((3,4))) # random need a small bracket inside\n",
    "print (a)\n",
    "print ('--------')\n",
    "\n",
    "#reshape the matrix\n",
    "print (a.ravel()) # flatten the array\n",
    "print ('--------')\n",
    "a.shape = (6,2) # reshape to a matrix 6*2\n",
    "print (a)\n",
    "print ('--------')\n",
    "print (a.T) # Transpose matrix"
   ]
  },
  {
   "cell_type": "code",
   "execution_count": 12,
   "metadata": {},
   "outputs": [
    {
     "name": "stdout",
     "output_type": "stream",
     "text": [
      "[[8. 9. 4. 2.]\n",
      " [7. 7. 2. 7.]\n",
      " [4. 3. 6. 7.]]\n",
      "------------\n",
      "[[9. 8. 9. 6.]\n",
      " [2. 0. 1. 6.]\n",
      " [6. 4. 1. 3.]]\n",
      "------------\n",
      "[[8. 9. 4. 2.]\n",
      " [7. 7. 2. 7.]\n",
      " [4. 3. 6. 7.]\n",
      " [9. 8. 9. 6.]\n",
      " [2. 0. 1. 6.]\n",
      " [6. 4. 1. 3.]]\n",
      "------------\n",
      "[[8. 9. 4. 2. 9. 8. 9. 6.]\n",
      " [7. 7. 2. 7. 2. 0. 1. 6.]\n",
      " [4. 3. 6. 7. 6. 4. 1. 3.]]\n"
     ]
    }
   ],
   "source": [
    "# Matrix splicing np.vstack(())/np.hstack(())\n",
    "# row/column\n",
    "\n",
    "a = np.floor(10*np.random.random((3,4)))\n",
    "b = np.floor(10*np.random.random((3,4)))\n",
    "print (a)\n",
    "print ('------------')\n",
    "print (b)\n",
    "print ('------------')\n",
    "print (np.vstack((a,b)))\n",
    "print ('------------')\n",
    "print (np.hstack((a,b)))"
   ]
  },
  {
   "cell_type": "code",
   "execution_count": 18,
   "metadata": {},
   "outputs": [
    {
     "name": "stdout",
     "output_type": "stream",
     "text": [
      "[[7. 0. 6. 3.]\n",
      " [4. 1. 5. 3.]\n",
      " [1. 2. 0. 6.]]\n",
      "------------\n",
      "[array([[7.],\n",
      "       [4.],\n",
      "       [1.]]), array([[0.],\n",
      "       [1.],\n",
      "       [2.]]), array([[6.],\n",
      "       [5.],\n",
      "       [0.]]), array([[3.],\n",
      "       [3.],\n",
      "       [6.]])]\n",
      "------------\n",
      "[array([[7., 0.],\n",
      "       [4., 1.],\n",
      "       [1., 2.]]), array([[6.],\n",
      "       [5.],\n",
      "       [0.]]), array([[3.],\n",
      "       [3.],\n",
      "       [6.]])]\n",
      "------------\n",
      "[array([[7., 0., 6., 3.]]), array([[4., 1., 5., 3.]]), array([[1., 2., 0., 6.]])]\n"
     ]
    }
   ],
   "source": [
    "# split np.hsplit() row / np.vsplit() column\n",
    "a = np.floor(10*np.random.random((3,4)))\n",
    "print (a)\n",
    "print ('------------')\n",
    "print (np.hsplit(a,4)) # average split\n",
    "print ('------------')\n",
    "print (np.hsplit(a,(2,3)))\n",
    "print ('------------')\n",
    "print (np.vsplit(a,3))"
   ]
  },
  {
   "cell_type": "code",
   "execution_count": 22,
   "metadata": {},
   "outputs": [
    {
     "name": "stdout",
     "output_type": "stream",
     "text": [
      "True\n",
      "[[ 0  1  2  3]\n",
      " [ 4  5  6  7]\n",
      " [ 8  9 10 11]]\n",
      "(3, 4)\n",
      "1803558231776\n",
      "1803558231776\n"
     ]
    }
   ],
   "source": [
    "# make a b which can totally represent a \n",
    "# b=====a\n",
    "# same id same value\n",
    "a = np.arange(12)\n",
    "b = a\n",
    "print (b is a)\n",
    "b.shape = 3,4\n",
    "print (b)\n",
    "print (a.shape)\n",
    "print (id(a))\n",
    "print (id(b)) # same id"
   ]
  },
  {
   "cell_type": "code",
   "execution_count": 26,
   "metadata": {},
   "outputs": [
    {
     "name": "stdout",
     "output_type": "stream",
     "text": [
      "False\n",
      "(3, 4)\n",
      "1803541495120\n",
      "1803558231776\n",
      "[[     0      1      2 123452]\n",
      " [     4      5      6      7]\n",
      " [     8      9     10     11]]\n"
     ]
    }
   ],
   "source": [
    "# make a b which can partly represent a \n",
    "# looks as the same data with different id\n",
    "c = a.view()\n",
    "print (c is a)\n",
    "c.shape = 3,4\n",
    "print (a.shape)\n",
    "print (id(c))\n",
    "print (id(a))\n",
    "\n",
    "c[0,3] = 123452\n",
    "print (a)"
   ]
  },
  {
   "cell_type": "code",
   "execution_count": 30,
   "metadata": {},
   "outputs": [
    {
     "name": "stdout",
     "output_type": "stream",
     "text": [
      "False\n",
      "[[  9999      1      2 123452]\n",
      " [     4      5      6      7]\n",
      " [     8      9     10     11]]\n",
      "[[     0      1      2 123452]\n",
      " [     4      5      6      7]\n",
      " [     8      9     10     11]]\n"
     ]
    }
   ],
   "source": [
    "# copy method \n",
    "# just copy the current value\n",
    "# dont effect the future change\n",
    "d = a.copy()\n",
    "print (d is a)\n",
    "d[0,0] = 9999\n",
    "print (d)\n",
    "print (a)"
   ]
  },
  {
   "cell_type": "code",
   "execution_count": 33,
   "metadata": {},
   "outputs": [
    {
     "name": "stdout",
     "output_type": "stream",
     "text": [
      "[[ 0.          0.84147098  0.90929743  0.14112001]\n",
      " [-0.7568025  -0.95892427 -0.2794155   0.6569866 ]\n",
      " [ 0.98935825  0.41211849 -0.54402111 -0.99999021]\n",
      " [-0.53657292  0.42016704  0.99060736  0.65028784]\n",
      " [-0.28790332 -0.96139749 -0.75098725  0.14987721]]\n",
      "[2 0 3 1]\n"
     ]
    },
    {
     "data": {
      "text/plain": [
       "array([0.98935825, 0.84147098, 0.99060736, 0.6569866 ])"
      ]
     },
     "execution_count": 33,
     "metadata": {},
     "output_type": "execute_result"
    }
   ],
   "source": [
    "# argmax\n",
    "data = np.sin(np.arange(20)).reshape(5,4)\n",
    "print (data)\n",
    "ind = data.argmax(axis=0)\n",
    "print (ind)\n",
    "data_max = data[ind, range(data.shape[1])]"
   ]
  },
  {
   "cell_type": "code",
   "execution_count": 35,
   "metadata": {},
   "outputs": [
    {
     "name": "stdout",
     "output_type": "stream",
     "text": [
      "[10 20 30]\n",
      "[[10 20 30 10 20 30]\n",
      " [10 20 30 10 20 30]\n",
      " [10 20 30 10 20 30]\n",
      " [10 20 30 10 20 30]]\n"
     ]
    }
   ],
   "source": [
    "a = np.arange(10,40,10) \n",
    "print (a)\n",
    "b = np.tile(a,(4,2)) # row become four times as the original one\n",
    "print (b)"
   ]
  },
  {
   "cell_type": "code",
   "execution_count": 43,
   "metadata": {},
   "outputs": [
    {
     "name": "stdout",
     "output_type": "stream",
     "text": [
      "[[4 3 5]\n",
      " [1 2 1]]\n",
      "------------\n",
      "[[3 4 5]\n",
      " [1 1 2]]\n",
      "------------\n",
      "[[3 4 5]\n",
      " [1 1 2]]\n",
      "[2 3 1 0]\n",
      "------------\n",
      "[1 2 3 4]\n"
     ]
    }
   ],
   "source": [
    "# sort the data set\n",
    "a = np.array([[4, 3, 5],[1, 2, 1]])\n",
    "print (a)\n",
    "print ('------------')\n",
    "b = np.sort(a, axis=1)\n",
    "print (b)\n",
    "a.sort(axis=1)\n",
    "print ('------------')\n",
    "print (a)\n",
    "a = np.array([4, 3, 1, 2])\n",
    "j = np.argsort(a) # index for the sort\n",
    "print (j)\n",
    "print ('------------')\n",
    "print (a[j])"
   ]
  },
  {
   "cell_type": "code",
   "execution_count": null,
   "metadata": {},
   "outputs": [],
   "source": []
  }
 ],
 "metadata": {
  "kernelspec": {
   "display_name": "Python 3",
   "language": "python",
   "name": "python3"
  },
  "language_info": {
   "codemirror_mode": {
    "name": "ipython",
    "version": 3
   },
   "file_extension": ".py",
   "mimetype": "text/x-python",
   "name": "python",
   "nbconvert_exporter": "python",
   "pygments_lexer": "ipython3",
   "version": "3.8.3"
  }
 },
 "nbformat": 4,
 "nbformat_minor": 4
}
