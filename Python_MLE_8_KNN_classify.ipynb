{
 "cells": [
  {
   "cell_type": "code",
   "execution_count": 2,
   "id": "compressed-circumstances",
   "metadata": {},
   "outputs": [],
   "source": [
    "import numpy as np\n",
    "import pandas as pd\n"
   ]
  },
  {
   "cell_type": "code",
   "execution_count": 3,
   "id": "relevant-freeware",
   "metadata": {},
   "outputs": [
    {
     "data": {
      "text/html": [
       "<div>\n",
       "<style scoped>\n",
       "    .dataframe tbody tr th:only-of-type {\n",
       "        vertical-align: middle;\n",
       "    }\n",
       "\n",
       "    .dataframe tbody tr th {\n",
       "        vertical-align: top;\n",
       "    }\n",
       "\n",
       "    .dataframe thead th {\n",
       "        text-align: right;\n",
       "    }\n",
       "</style>\n",
       "<table border=\"1\" class=\"dataframe\">\n",
       "  <thead>\n",
       "    <tr style=\"text-align: right;\">\n",
       "      <th></th>\n",
       "      <th>Id</th>\n",
       "      <th>sepalLengthCm</th>\n",
       "      <th>sepalWidthCm</th>\n",
       "      <th>PetalLengthCm</th>\n",
       "      <th>PetalWidthCm</th>\n",
       "      <th>Species</th>\n",
       "    </tr>\n",
       "  </thead>\n",
       "  <tbody>\n",
       "    <tr>\n",
       "      <th>0</th>\n",
       "      <td>1</td>\n",
       "      <td>5.1</td>\n",
       "      <td>3.5</td>\n",
       "      <td>1.4</td>\n",
       "      <td>0.2</td>\n",
       "      <td>Iris-setosa</td>\n",
       "    </tr>\n",
       "    <tr>\n",
       "      <th>1</th>\n",
       "      <td>2</td>\n",
       "      <td>4.9</td>\n",
       "      <td>3.0</td>\n",
       "      <td>1.4</td>\n",
       "      <td>0.2</td>\n",
       "      <td>Iris-setosa</td>\n",
       "    </tr>\n",
       "    <tr>\n",
       "      <th>2</th>\n",
       "      <td>3</td>\n",
       "      <td>4.7</td>\n",
       "      <td>3.2</td>\n",
       "      <td>1.3</td>\n",
       "      <td>0.2</td>\n",
       "      <td>Iris-setosa</td>\n",
       "    </tr>\n",
       "    <tr>\n",
       "      <th>3</th>\n",
       "      <td>4</td>\n",
       "      <td>4.6</td>\n",
       "      <td>3.1</td>\n",
       "      <td>1.5</td>\n",
       "      <td>0.2</td>\n",
       "      <td>Iris-setosa</td>\n",
       "    </tr>\n",
       "    <tr>\n",
       "      <th>4</th>\n",
       "      <td>5</td>\n",
       "      <td>5.0</td>\n",
       "      <td>3.6</td>\n",
       "      <td>1.4</td>\n",
       "      <td>0.2</td>\n",
       "      <td>Iris-setosa</td>\n",
       "    </tr>\n",
       "    <tr>\n",
       "      <th>...</th>\n",
       "      <td>...</td>\n",
       "      <td>...</td>\n",
       "      <td>...</td>\n",
       "      <td>...</td>\n",
       "      <td>...</td>\n",
       "      <td>...</td>\n",
       "    </tr>\n",
       "    <tr>\n",
       "      <th>145</th>\n",
       "      <td>146</td>\n",
       "      <td>6.7</td>\n",
       "      <td>3.0</td>\n",
       "      <td>5.2</td>\n",
       "      <td>2.3</td>\n",
       "      <td>Iris-virginica</td>\n",
       "    </tr>\n",
       "    <tr>\n",
       "      <th>146</th>\n",
       "      <td>147</td>\n",
       "      <td>6.3</td>\n",
       "      <td>2.5</td>\n",
       "      <td>5.0</td>\n",
       "      <td>1.9</td>\n",
       "      <td>Iris-virginica</td>\n",
       "    </tr>\n",
       "    <tr>\n",
       "      <th>147</th>\n",
       "      <td>148</td>\n",
       "      <td>6.5</td>\n",
       "      <td>3.0</td>\n",
       "      <td>5.2</td>\n",
       "      <td>2.0</td>\n",
       "      <td>Iris-virginica</td>\n",
       "    </tr>\n",
       "    <tr>\n",
       "      <th>148</th>\n",
       "      <td>149</td>\n",
       "      <td>6.2</td>\n",
       "      <td>3.4</td>\n",
       "      <td>5.4</td>\n",
       "      <td>2.3</td>\n",
       "      <td>Iris-virginica</td>\n",
       "    </tr>\n",
       "    <tr>\n",
       "      <th>149</th>\n",
       "      <td>150</td>\n",
       "      <td>5.9</td>\n",
       "      <td>3.0</td>\n",
       "      <td>5.1</td>\n",
       "      <td>1.8</td>\n",
       "      <td>Iris-virginica</td>\n",
       "    </tr>\n",
       "  </tbody>\n",
       "</table>\n",
       "<p>150 rows × 6 columns</p>\n",
       "</div>"
      ],
      "text/plain": [
       "      Id  sepalLengthCm  sepalWidthCm  PetalLengthCm  PetalWidthCm  \\\n",
       "0      1            5.1           3.5            1.4           0.2   \n",
       "1      2            4.9           3.0            1.4           0.2   \n",
       "2      3            4.7           3.2            1.3           0.2   \n",
       "3      4            4.6           3.1            1.5           0.2   \n",
       "4      5            5.0           3.6            1.4           0.2   \n",
       "..   ...            ...           ...            ...           ...   \n",
       "145  146            6.7           3.0            5.2           2.3   \n",
       "146  147            6.3           2.5            5.0           1.9   \n",
       "147  148            6.5           3.0            5.2           2.0   \n",
       "148  149            6.2           3.4            5.4           2.3   \n",
       "149  150            5.9           3.0            5.1           1.8   \n",
       "\n",
       "            Species  \n",
       "0       Iris-setosa  \n",
       "1       Iris-setosa  \n",
       "2       Iris-setosa  \n",
       "3       Iris-setosa  \n",
       "4       Iris-setosa  \n",
       "..              ...  \n",
       "145  Iris-virginica  \n",
       "146  Iris-virginica  \n",
       "147  Iris-virginica  \n",
       "148  Iris-virginica  \n",
       "149  Iris-virginica  \n",
       "\n",
       "[150 rows x 6 columns]"
      ]
     },
     "execution_count": 3,
     "metadata": {},
     "output_type": "execute_result"
    }
   ],
   "source": [
    "# read data\n",
    "# parameter header is used to index head line\n",
    "#pd.read_csv('',header=0)\n",
    "data = pd.read_csv(r'Iris.csv') # 文件名称前加r字符串转译\n",
    "data\n",
    "# data.head(15) # head line default is five lines\n",
    "# data.tail(5) # last five lines\n",
    "# data.sample() # ramdomly select n samples"
   ]
  },
  {
   "cell_type": "code",
   "execution_count": 79,
   "id": "packed-secretariat",
   "metadata": {},
   "outputs": [
    {
     "data": {
      "text/plain": [
       "0      1\n",
       "1      1\n",
       "2      1\n",
       "3      1\n",
       "4      1\n",
       "      ..\n",
       "145    2\n",
       "146    2\n",
       "147    2\n",
       "148    2\n",
       "149    2\n",
       "Name: Species, Length: 150, dtype: int64"
      ]
     },
     "execution_count": 79,
     "metadata": {},
     "output_type": "execute_result"
    }
   ],
   "source": [
    "# map object into other type of variables\n",
    "# .map({}=a,{}=b) # create dictionary to map transfer value\n",
    "data[\"Species\"] = data[\"Species\"].map({\"Iris-versicolor\": 0, \"Iris-setosa\": 1, \"Iris-virginica\": 2})\n",
    "data[\"Species\"]"
   ]
  },
  {
   "cell_type": "code",
   "execution_count": 62,
   "id": "biological-gabriel",
   "metadata": {},
   "outputs": [
    {
     "name": "stdout",
     "output_type": "stream",
     "text": [
      "     sepalLengthCm  sepalWidthCm  PetalLengthCm  PetalWidthCm         Species\n",
      "0              5.1           3.5            1.4           0.2     Iris-setosa\n",
      "1              4.9           3.0            1.4           0.2     Iris-setosa\n",
      "2              4.7           3.2            1.3           0.2     Iris-setosa\n",
      "3              4.6           3.1            1.5           0.2     Iris-setosa\n",
      "4              5.0           3.6            1.4           0.2     Iris-setosa\n",
      "..             ...           ...            ...           ...             ...\n",
      "145            6.7           3.0            5.2           2.3  Iris-virginica\n",
      "146            6.3           2.5            5.0           1.9  Iris-virginica\n",
      "147            6.5           3.0            5.2           2.0  Iris-virginica\n",
      "148            6.2           3.4            5.4           2.3  Iris-virginica\n",
      "149            5.9           3.0            5.1           1.8  Iris-virginica\n",
      "\n",
      "[150 rows x 5 columns]\n"
     ]
    },
    {
     "data": {
      "text/html": [
       "<div>\n",
       "<style scoped>\n",
       "    .dataframe tbody tr th:only-of-type {\n",
       "        vertical-align: middle;\n",
       "    }\n",
       "\n",
       "    .dataframe tbody tr th {\n",
       "        vertical-align: top;\n",
       "    }\n",
       "\n",
       "    .dataframe thead th {\n",
       "        text-align: right;\n",
       "    }\n",
       "</style>\n",
       "<table border=\"1\" class=\"dataframe\">\n",
       "  <thead>\n",
       "    <tr style=\"text-align: right;\">\n",
       "      <th></th>\n",
       "      <th>Id</th>\n",
       "      <th>sepalLengthCm</th>\n",
       "      <th>sepalWidthCm</th>\n",
       "      <th>PetalLengthCm</th>\n",
       "      <th>PetalWidthCm</th>\n",
       "      <th>Species</th>\n",
       "    </tr>\n",
       "  </thead>\n",
       "  <tbody>\n",
       "    <tr>\n",
       "      <th>0</th>\n",
       "      <td>1</td>\n",
       "      <td>5.1</td>\n",
       "      <td>3.5</td>\n",
       "      <td>1.4</td>\n",
       "      <td>0.2</td>\n",
       "      <td>Iris-setosa</td>\n",
       "    </tr>\n",
       "    <tr>\n",
       "      <th>1</th>\n",
       "      <td>2</td>\n",
       "      <td>4.9</td>\n",
       "      <td>3.0</td>\n",
       "      <td>1.4</td>\n",
       "      <td>0.2</td>\n",
       "      <td>Iris-setosa</td>\n",
       "    </tr>\n",
       "    <tr>\n",
       "      <th>2</th>\n",
       "      <td>3</td>\n",
       "      <td>4.7</td>\n",
       "      <td>3.2</td>\n",
       "      <td>1.3</td>\n",
       "      <td>0.2</td>\n",
       "      <td>Iris-setosa</td>\n",
       "    </tr>\n",
       "    <tr>\n",
       "      <th>3</th>\n",
       "      <td>4</td>\n",
       "      <td>4.6</td>\n",
       "      <td>3.1</td>\n",
       "      <td>1.5</td>\n",
       "      <td>0.2</td>\n",
       "      <td>Iris-setosa</td>\n",
       "    </tr>\n",
       "    <tr>\n",
       "      <th>4</th>\n",
       "      <td>5</td>\n",
       "      <td>5.0</td>\n",
       "      <td>3.6</td>\n",
       "      <td>1.4</td>\n",
       "      <td>0.2</td>\n",
       "      <td>Iris-setosa</td>\n",
       "    </tr>\n",
       "    <tr>\n",
       "      <th>...</th>\n",
       "      <td>...</td>\n",
       "      <td>...</td>\n",
       "      <td>...</td>\n",
       "      <td>...</td>\n",
       "      <td>...</td>\n",
       "      <td>...</td>\n",
       "    </tr>\n",
       "    <tr>\n",
       "      <th>145</th>\n",
       "      <td>146</td>\n",
       "      <td>6.7</td>\n",
       "      <td>3.0</td>\n",
       "      <td>5.2</td>\n",
       "      <td>2.3</td>\n",
       "      <td>Iris-virginica</td>\n",
       "    </tr>\n",
       "    <tr>\n",
       "      <th>146</th>\n",
       "      <td>147</td>\n",
       "      <td>6.3</td>\n",
       "      <td>2.5</td>\n",
       "      <td>5.0</td>\n",
       "      <td>1.9</td>\n",
       "      <td>Iris-virginica</td>\n",
       "    </tr>\n",
       "    <tr>\n",
       "      <th>147</th>\n",
       "      <td>148</td>\n",
       "      <td>6.5</td>\n",
       "      <td>3.0</td>\n",
       "      <td>5.2</td>\n",
       "      <td>2.0</td>\n",
       "      <td>Iris-virginica</td>\n",
       "    </tr>\n",
       "    <tr>\n",
       "      <th>148</th>\n",
       "      <td>149</td>\n",
       "      <td>6.2</td>\n",
       "      <td>3.4</td>\n",
       "      <td>5.4</td>\n",
       "      <td>2.3</td>\n",
       "      <td>Iris-virginica</td>\n",
       "    </tr>\n",
       "    <tr>\n",
       "      <th>149</th>\n",
       "      <td>150</td>\n",
       "      <td>5.9</td>\n",
       "      <td>3.0</td>\n",
       "      <td>5.1</td>\n",
       "      <td>1.8</td>\n",
       "      <td>Iris-virginica</td>\n",
       "    </tr>\n",
       "  </tbody>\n",
       "</table>\n",
       "<p>150 rows × 6 columns</p>\n",
       "</div>"
      ],
      "text/plain": [
       "      Id  sepalLengthCm  sepalWidthCm  PetalLengthCm  PetalWidthCm  \\\n",
       "0      1            5.1           3.5            1.4           0.2   \n",
       "1      2            4.9           3.0            1.4           0.2   \n",
       "2      3            4.7           3.2            1.3           0.2   \n",
       "3      4            4.6           3.1            1.5           0.2   \n",
       "4      5            5.0           3.6            1.4           0.2   \n",
       "..   ...            ...           ...            ...           ...   \n",
       "145  146            6.7           3.0            5.2           2.3   \n",
       "146  147            6.3           2.5            5.0           1.9   \n",
       "147  148            6.5           3.0            5.2           2.0   \n",
       "148  149            6.2           3.4            5.4           2.3   \n",
       "149  150            5.9           3.0            5.1           1.8   \n",
       "\n",
       "            Species  \n",
       "0       Iris-setosa  \n",
       "1       Iris-setosa  \n",
       "2       Iris-setosa  \n",
       "3       Iris-setosa  \n",
       "4       Iris-setosa  \n",
       "..              ...  \n",
       "145  Iris-virginica  \n",
       "146  Iris-virginica  \n",
       "147  Iris-virginica  \n",
       "148  Iris-virginica  \n",
       "149  Iris-virginica  \n",
       "\n",
       "[150 rows x 6 columns]"
      ]
     },
     "execution_count": 62,
     "metadata": {},
     "output_type": "execute_result"
    }
   ],
   "source": [
    "# delete redundant data\n",
    "# delete column direction index is 1\n",
    "data_del = data.drop('Id',axis=1)\n",
    "#data.drop('Id',axis=1,inplace=True) # 彻底修改原有数据值,inplace=True\n",
    "print (data_del)\n",
    "data"
   ]
  },
  {
   "cell_type": "code",
   "execution_count": 77,
   "id": "communist-constraint",
   "metadata": {},
   "outputs": [
    {
     "data": {
      "text/plain": [
       "147"
      ]
     },
     "execution_count": 77,
     "metadata": {},
     "output_type": "execute_result"
    }
   ],
   "source": [
    "# check data duplicated\n",
    "data_del.duplicated().any()\n",
    "# delete duplicated data\n",
    "deldup = data_del.drop_duplicates()\n",
    "len(data)\n",
    "len(deldup)"
   ]
  },
  {
   "cell_type": "code",
   "execution_count": 80,
   "id": "animal-necessity",
   "metadata": {},
   "outputs": [
    {
     "data": {
      "text/plain": [
       "0    50\n",
       "1    50\n",
       "2    50\n",
       "Name: Species, dtype: int64"
      ]
     },
     "execution_count": 80,
     "metadata": {},
     "output_type": "execute_result"
    }
   ],
   "source": [
    "# count the number of specific class\n",
    "data[\"Species\"].value_counts()"
   ]
  },
  {
   "cell_type": "code",
   "execution_count": 16,
   "id": "subtle-nightlife",
   "metadata": {},
   "outputs": [],
   "source": [
    "# KNN\n",
    "class KNN:\n",
    "    \"\"\"使用python语言实现k近邻算法\"\"\"\n",
    "    def __init__(self,k):\n",
    "        \"\"\"初始化方法\n",
    "        parameters\n",
    "        ----\n",
    "        k:int\n",
    "          邻居个数\n",
    "        \"\"\"\n",
    "        self.k = k\n",
    "    \n",
    "    def fit(self,X,y):\n",
    "        \"\"\"训练方法\n",
    "        parameters\n",
    "        ----\n",
    "        X:类数组类型，形状为：[样本数量，特征数量]\n",
    "          待训练样本特征\n",
    "        y:；类数组类型，形状为：[样本数量]\n",
    "          每个样本的目标值（标签）\"\"\"\n",
    "        # 将X转换为nparray数组类型\n",
    "        self.X = np.asarray(X)\n",
    "        self.y = np.asarray(y)\n",
    "    \n",
    "    def predict(self,X):\n",
    "        \"\"\"根据参数传递的样本，对样本数据进行预测\n",
    "        parameters\n",
    "        ----\n",
    "        X:类数组类型，形状为：[样本数量，特征数量]\n",
    "          待训练样本特征\n",
    "         result:数组类型\n",
    "             预测的结果\n",
    "        \"\"\"\n",
    "\n",
    "        X = np.asarray(X)\n",
    "        result = []\n",
    "        # 对np.array数组进行遍历，每次取数组中的一行\n",
    "        for x in X:\n",
    "            # 对于测试集中的每一个样本，依次与训练集中的所有样本求距离\n",
    "            dis = np.sqrt(np.sum((x - self.X)**2,axis=1)) #axis=1 行方向相加\n",
    "            # 返回数组排序后，每个元素在原数组中的索引。\n",
    "            index = dis.argsort()\n",
    "            # 进行截断，只取前k个元素\n",
    "            index = index[:self.k]\n",
    "            # 返回数组中每个元素出现的次数\n",
    "            count = np.bincount(self.y[index]) # 应用index索引出对应的y值，会返回每个类别的数量\n",
    "            # 返回ndarray数组中值最大元素对应的索引。该索引就是我们判定的类别\n",
    "            # 最大元素索引，就是出现最多的元素\n",
    "            result.append(count.argmax())\n",
    "        return np.asarray(result)\n",
    "\n",
    "    def predict2(self,X):\n",
    "        \"\"\"根据参数传递的样本，对样本数据进行预测（考虑权重，使用距离倒数作为权重）\n",
    "        parameters\n",
    "        ----\n",
    "        X:类数组类型，形状为：[样本数量，特征数量]\n",
    "          待训练样本特征\n",
    "         result:数组类型\n",
    "             预测的结果\n",
    "        \"\"\"\n",
    "\n",
    "        #带有权重的KNN\n",
    "        # 每段距离权重不同\n",
    "\n",
    "        X = np.asarray(X)\n",
    "        result = []\n",
    "        # 对np.array数组进行遍历，每次取数组中的一行\n",
    "        for x in X:\n",
    "            # 对于测试集中的每一个样本，依次与训练集中的所有样本求距离\n",
    "            dis = np.sqrt(np.sum((x - self.X)**2,axis=1)) #axis=1 行方向相加\n",
    "            # 返回数组排序后，每个元素在原数组中的索引。\n",
    "            index = dis.argsort()\n",
    "            # 进行截断，只取前k个元素\n",
    "            index = index[:self.k]\n",
    "            # 返回数组中每个元素出现的次数 # bincount()数次数 # 设定距离权重\n",
    "            count = np.bincount(self.y[index], weights=1 / dis[index]) # 应用index索引出对应的y值，会返回每个类别的数量\n",
    "            # 返回ndarray数组中值最大元素对应的索引。该索引就是我们判定的类别\n",
    "            # 最大元素索引，就是出现最多的元素\n",
    "            result.append(count.argmax())\n",
    "        return np.asarray(result)"
   ]
  },
  {
   "cell_type": "code",
   "execution_count": 17,
   "id": "desperate-hello",
   "metadata": {
    "scrolled": true
   },
   "outputs": [
    {
     "data": {
      "text/plain": [
       "0"
      ]
     },
     "metadata": {},
     "output_type": "display_data"
    },
    {
     "data": {
      "text/plain": [
       "0"
      ]
     },
     "execution_count": 17,
     "metadata": {},
     "output_type": "execute_result"
    }
   ],
   "source": [
    "# 提取出每个鸢尾花数据\n",
    "t0 = data[data[\"Species\"] == 0]\n",
    "t1 = data[data[\"Species\"] == 1]\n",
    "t2 = data[data[\"Species\"] == 2]\n",
    "\n",
    "# 对每个类别数据进行洗牌\n",
    "t0 = t0.sample(len(t0), random_state=0)# 从t0中随机取t0样本数量一样的样本，相当于打乱样本顺序。\n",
    "#random_state代表一直以0方式进行随机打乱。（固定模式）\n",
    "t1 = t1.sample(len(t1), random_state=0)\n",
    "t2 = t2.sample(len(t2), random_state=0)\n",
    "\n",
    "# 构建训练集与测试集\n",
    "train_X = pd.concat([t0.iloc[:40,:-1],t1.iloc[:40,:-1],t2.iloc[:40,:-1]],axis=0)# pd.concat()进行数据拼接 # 选择0-40行作为训练集 # -1代表倒数第一列\n",
    "train_y = pd.concat([t0.iloc[:40,-1],t1.iloc[:40,-1],t2.iloc[:40,-1]],axis=0)\n",
    "\n",
    "test_X = pd.concat([t0.iloc[40:,:-1],t1.iloc[40:,:-1],t2.iloc[40:,:-1]],axis=0)\n",
    "test_y = pd.concat([t0.iloc[40:,-1],t1.iloc[40:,-1],t2.iloc[40:,-1]],axis=0)\n",
    "\n",
    "# 创建KNN对象\n",
    "knn = KNN(k=3)\n",
    "\n",
    "# 进行训练\n",
    "knn.fit(train_X,train_y)\n",
    "\n",
    "#进行测试，获得测试结果\n",
    "result = knn.predict(test_X)\n",
    "display(np.sum(result == test_y))\n",
    "len(result)\n"
   ]
  },
  {
   "cell_type": "code",
   "execution_count": 18,
   "id": "about-update",
   "metadata": {},
   "outputs": [
    {
     "data": {
      "text/plain": [
       "0"
      ]
     },
     "metadata": {},
     "output_type": "display_data"
    },
    {
     "data": {
      "text/plain": [
       "0"
      ]
     },
     "execution_count": 18,
     "metadata": {},
     "output_type": "execute_result"
    }
   ],
   "source": [
    "#考虑权重，进行测试predict2()\n",
    "result2 = knn.predict(test_X)\n",
    "display(np.sum(result2 == test_y))\n",
    "len(result)"
   ]
  },
  {
   "cell_type": "code",
   "execution_count": 114,
   "id": "plastic-sudan",
   "metadata": {},
   "outputs": [],
   "source": [
    "# 可视化\n",
    "import matplotlib as mpl\n",
    "import matplotlib.pyplot as plt="
   ]
  },
  {
   "cell_type": "code",
   "execution_count": 116,
   "id": "guided-sailing",
   "metadata": {},
   "outputs": [],
   "source": [
    "# 中文显示设置\n",
    "# mpl.rcParams[]\n",
    "mpl.rcParams[\"font.family\"] = \"SimHei\" # 将中文设置为黑体\n",
    "mpl.rcParams[\"axes.unicode_minus\"] = False # 其中负号minus不变"
   ]
  },
  {
   "cell_type": "code",
   "execution_count": 128,
   "id": "according-settle",
   "metadata": {},
   "outputs": [
    {
     "data": {
      "image/png": "[encoded data removed]",
      "text/plain": [
       "<Figure size 720x720 with 1 Axes>"
      ]
     },
     "metadata": {
      "needs_background": "light"
     },
     "output_type": "display_data"
    }
   ],
   "source": [
    "# 设置画布大小\n",
    "plt.figure(figsize=(10,10))\n",
    "# {\"Iris-versicolor\": 0, \"Iris-setosa\": 1, \"Iris-virginica\": 2}\n",
    "# 绘制训练集数据 # 二维\n",
    "plt.scatter(x=t0[\"sepalLengthCm\"][:40],y=t0[\"PetalLengthCm\"][:40],color=\"r\",label=\"Iris-versicolor\")\n",
    "plt.scatter(x=t1[\"sepalLengthCm\"][:40],y=t1[\"PetalLengthCm\"][:40],color=\"b\",label=\"Iris-setosa\")\n",
    "plt.scatter(x=t2[\"sepalLengthCm\"][:40],y=t2[\"PetalLengthCm\"][:40],color=\"g\",label=\"Iris-virginica\")\n",
    "\n",
    "# 测试集数据\n",
    "right = test_X[result == test_y]\n",
    "wrong = test_X[result != test_y]\n",
    "plt.scatter(x=right[\"sepalLengthCm\"],y=right[\"PetalLengthCm\"],color=\"c\", marker=\"x\",label=\"right\")\n",
    "plt.scatter(x=wrong[\"sepalLengthCm\"],y=wrong[\"PetalLengthCm\"],color=\"y\", marker=\"x\",label=\"wrong\")\n",
    "plt.xlabel(\"sepalLengthCm\")\n",
    "plt.ylabel(\"PetalLengthCm\")\n",
    "plt.title(\"KNN for Iris\")\n",
    "plt.legend(loc=\"best\")\n",
    "plt.show()"
   ]
  },
  {
   "cell_type": "code",
   "execution_count": null,
   "id": "civil-mayor",
   "metadata": {},
   "outputs": [],
   "source": [
    "\n"
   ]
  }
 ],
 "metadata": {
  "kernelspec": {
   "display_name": "Python 3",
   "language": "python",
   "name": "python3"
  },
  "language_info": {
   "codemirror_mode": {
    "name": "ipython",
    "version": 3
   },
   "file_extension": ".py",
   "mimetype": "text/x-python",
   "name": "python",
   "nbconvert_exporter": "python",
   "pygments_lexer": "ipython3",
   "version": "3.8.5"
  }
 },
 "nbformat": 4,
 "nbformat_minor": 5
}
