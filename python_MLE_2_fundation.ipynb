{
 "cells": [
  {
   "cell_type": "code",
   "execution_count": 7,
   "metadata": {},
   "outputs": [
    {
     "name": "stdout",
     "output_type": "stream",
     "text": [
      "hello python\n",
      "tangyudi 123\n",
      "ML 456\n",
      "DL 789\n",
      "data 234\n"
     ]
    }
   ],
   "source": [
    "# 9 File\n",
    "# To open a file in python use open() function\n",
    "# read\n",
    "f = open('python_MLE_2.txt','r') #open the file in same direction with the program # r-read\n",
    "\n",
    "g = f.read() # read the file\n",
    "print (g)\n",
    "\n",
    "f.close() # close the file"
   ]
  },
  {
   "cell_type": "code",
   "execution_count": 11,
   "metadata": {},
   "outputs": [],
   "source": [
    "# write\n",
    "f = open('python_MLE_2_scripe.txt','w') # w-write is allowed # build a new file\n",
    "\n",
    "f.write('I love you')\n",
    "f.write('\\n') # line feed \n",
    "f.write('happy valentine_s day')\n",
    "f.write('\\n')\n",
    "f.write('study')\n",
    "\n",
    "f.close()"
   ]
  },
  {
   "cell_type": "code",
   "execution_count": 14,
   "metadata": {},
   "outputs": [
    {
     "name": "stdout",
     "output_type": "stream",
     "text": [
      "['1,sunny', '2,sunny', '3,sunny', '4,sunny', '5,sunny', '6,rain', '7,sunny', '8,sunny', '9,fog', '10,rain', '']\n",
      "[['1', 'sunny'], ['2', 'sunny'], ['3', 'sunny'], ['4', 'sunny'], ['5', 'sunny'], ['6', 'rain'], ['7', 'sunny'], ['8', 'sunny'], ['9', 'fog'], ['10', 'rain'], ['']]\n"
     ]
    }
   ],
   "source": [
    "# tranfer csv into list\n",
    "dataset=[]\n",
    "f = open('la_weather.csv','r')\n",
    "fr = f.read()\n",
    "rows = fr.split('\\n') # use \\n split rows\n",
    "print (rows)\n",
    "for data in rows:\n",
    "    data_element = data.split(',') # use , to split row into elements\n",
    "    dataset.append(data_element)\n",
    "print (dataset)"
   ]
  },
  {
   "cell_type": "code",
   "execution_count": 32,
   "metadata": {},
   "outputs": [
    {
     "name": "stdout",
     "output_type": "stream",
     "text": [
      "[['1', 'sunny'], ['2', 'sunny'], ['3', 'sunny'], ['4', 'sunny'], ['5', 'sunny'], ['6', 'rain'], ['7', 'sunny'], ['8', 'sunny'], ['9', 'fog'], ['10', 'rain']]\n",
      "['sunny', 'sunny', 'sunny', 'sunny', 'sunny', 'rain', 'sunny', 'sunny', 'fog', 'rain']\n"
     ]
    }
   ],
   "source": [
    "# extract every weather in dataset\n",
    "weather = []\n",
    "print (dataset)\n",
    "for row in dataset:\n",
    "    weather.append(row[1])\n",
    "print (weather)\n",
    "f.close()"
   ]
  },
  {
   "cell_type": "code",
   "execution_count": 39,
   "metadata": {},
   "outputs": [
    {
     "name": "stdout",
     "output_type": "stream",
     "text": [
      "hello python\n",
      "1\n",
      "2\n",
      "3\n",
      "4\n",
      "5\n",
      "6\n",
      "7\n",
      "8\n",
      "9\n",
      "10\n",
      "19\n"
     ]
    }
   ],
   "source": [
    "# 10 define function\n",
    "def print_hello_python():\n",
    "    print ('hello python')\n",
    "print_hello_python()\n",
    "\n",
    "def print_number():\n",
    "    for num in range(10):\n",
    "        print (num + 1)\n",
    "print_number()\n",
    "\n",
    "def add(a,b,c,d,apple):\n",
    "    return a + b + c + d + apple # return the output number\n",
    "print (add(1,3,5,6,4)) "
   ]
  },
  {
   "cell_type": "code",
   "execution_count": null,
   "metadata": {},
   "outputs": [],
   "source": []
  }
 ],
 "metadata": {
  "kernelspec": {
   "display_name": "Python 3",
   "language": "python",
   "name": "python3"
  },
  "language_info": {
   "codemirror_mode": {
    "name": "ipython",
    "version": 3
   },
   "file_extension": ".py",
   "mimetype": "text/x-python",
   "name": "python",
   "nbconvert_exporter": "python",
   "pygments_lexer": "ipython3",
   "version": "3.8.3"
  }
 },
 "nbformat": 4,
 "nbformat_minor": 4
}
